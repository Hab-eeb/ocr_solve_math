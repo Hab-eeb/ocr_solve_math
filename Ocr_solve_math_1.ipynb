{
  "cells": [
    {
      "cell_type": "markdown",
      "metadata": {
        "id": "view-in-github",
        "colab_type": "text"
      },
      "source": [
        "<a href=\"https://colab.research.google.com/github/Hab-eeb/ocr_solve_math/blob/main/Ocr_solve_math_1.ipynb\" target=\"_parent\"><img src=\"https://colab.research.google.com/assets/colab-badge.svg\" alt=\"Open In Colab\"/></a>"
      ]
    },
    {
      "cell_type": "code",
      "execution_count": null,
      "metadata": {
        "id": "wYgbh4UuAQ7Z"
      },
      "outputs": [],
      "source": [
        "import numpy as np\n",
        "import pandas as pd\n",
        "import cv2\n",
        "import os\n",
        "from imutils import contours\n",
        "from keras.datasets import mnist\n",
        "from keras.models import Sequential\n",
        "from keras.layers import Dense\n",
        "from keras.layers import Dropout\n",
        "from keras.layers import Flatten\n",
        "from keras.layers.convolutional import Conv2D\n",
        "from keras.layers.convolutional import MaxPooling2D\n",
        "from keras.utils import np_utils\n",
        "from keras import backend as K\n",
        "from google.colab.patches import cv2_imshow\n",
        "# K.set_image_dim_ordering('th')\n",
        "from keras.models import model_from_json"
      ]
    },
    {
      "cell_type": "code",
      "execution_count": null,
      "metadata": {
        "colab": {
          "base_uri": "https://localhost:8080/"
        },
        "id": "T7rqPvhc9NEK",
        "outputId": "9ed66054-1657-43f7-a1be-0e5064eaaa12"
      },
      "outputs": [
        {
          "output_type": "stream",
          "name": "stdout",
          "text": [
            "Mounted at /content/drive\n"
          ]
        }
      ],
      "source": [
        "#Getting dataset\n",
        "from google.colab import drive\n",
        "drive.mount('/content/drive')\n",
        "\n",
        "! unzip \"/content/drive/MyDrive/num_symbol.zip\""
      ]
    },
    {
      "cell_type": "code",
      "execution_count": null,
      "metadata": {
        "id": "SOQdsYED_lX7"
      },
      "outputs": [],
      "source": [
        "#Converting sign images to arrays\n",
        "add_img = []\n",
        "# sub_img = []\n",
        "# mul_img = []\n",
        "for imgs in os.listdir(\"/content/content/dataset/add\"):\n",
        "  image_path = \"/content/content/dataset/add\" + \"/\" + imgs\n",
        "  img_arr = cv2.imread(image_path)\n",
        "  img_arr = cv2.resize(img_arr,(28,28))\n",
        "  add_img.append(img_arr)\n",
        "\n",
        "  \n",
        "\n"
      ]
    },
    {
      "cell_type": "code",
      "execution_count": null,
      "metadata": {
        "colab": {
          "base_uri": "https://localhost:8080/"
        },
        "id": "VepRwbF5gMWs",
        "outputId": "a907bc5f-8792-4e81-838b-b84894bf1ce9"
      },
      "outputs": [
        {
          "output_type": "stream",
          "name": "stdout",
          "text": [
            "Downloading data from https://storage.googleapis.com/tensorflow/tf-keras-datasets/mnist.npz\n",
            "11493376/11490434 [==============================] - 0s 0us/step\n",
            "11501568/11490434 [==============================] - 0s 0us/step\n"
          ]
        }
      ],
      "source": [
        "#Getting the numbers images from mnist\n",
        "(trainX, trainy), (testX, testy) = mnist.load_data()"
      ]
    },
    {
      "cell_type": "code",
      "execution_count": null,
      "metadata": {
        "colab": {
          "base_uri": "https://localhost:8080/"
        },
        "id": "ByAGBOpXiY-f",
        "outputId": "3ddbf06d-9053-4cea-e6ce-3e5d873fb069"
      },
      "outputs": [
        {
          "output_type": "execute_result",
          "data": {
            "text/plain": [
              "(28, 28)"
            ]
          },
          "metadata": {},
          "execution_count": 21
        }
      ],
      "source": [
        "#making grayscale\n",
        "mul_img =[cv2.cvtColor(img,cv2.COLOR_BGR2GRAY ) for img in mul_img]\n",
        "sub_img =[cv2.cvtColor(img,cv2.COLOR_BGR2GRAY ) for img in sub_img]\n",
        "add_img =[cv2.cvtColor(img,cv2.COLOR_BGR2GRAY ) for img in add_img]\n",
        "sub_img[0].shape"
      ]
    },
    {
      "cell_type": "code",
      "execution_count": null,
      "metadata": {
        "colab": {
          "base_uri": "https://localhost:8080/"
        },
        "id": "C6c7ifnOgXri",
        "outputId": "4f70b25d-d3a6-44e1-822d-6926beb293bf"
      },
      "outputs": [
        {
          "output_type": "execute_result",
          "data": {
            "text/plain": [
              "(28, 28)"
            ]
          },
          "metadata": {},
          "execution_count": 22
        }
      ],
      "source": [
        "#inverting color to match mnist\n",
        "mul_img =[cv2.bitwise_not(img) for img in mul_img]\n",
        "sub_img =[cv2.bitwise_not(img) for img in sub_img]\n",
        "add_img =[cv2.bitwise_not(img) for img in add_img]\n",
        "sub_img[0].shape"
      ]
    },
    {
      "cell_type": "code",
      "execution_count": null,
      "metadata": {
        "id": "_uLIOyedjQZd"
      },
      "outputs": [],
      "source": [
        "train_x_n = list(trainX)\n",
        "train_y_n = list(trainy)"
      ]
    },
    {
      "cell_type": "code",
      "execution_count": null,
      "metadata": {
        "id": "z3VrKx13lBxu"
      },
      "outputs": [],
      "source": [
        "x= train_x_n + mul_img + sub_img + add_img"
      ]
    },
    {
      "cell_type": "code",
      "execution_count": null,
      "metadata": {
        "id": "HBbTDbswU3Ys"
      },
      "outputs": [],
      "source": [
        "x= [np.reshape(im,(1,28,28)) for im in sign_x ]"
      ]
    },
    {
      "cell_type": "code",
      "execution_count": null,
      "metadata": {
        "id": "RQQpQPZVPV1w"
      },
      "outputs": [],
      "source": [
        "#Creating the y labels for the signs\n",
        "# add_y =[]\n",
        "# for l in add_img:\n",
        "#   add_y.append(13)\n",
        "y = train_y_n + mul_y + sub_y + add_y"
      ]
    },
    {
      "cell_type": "code",
      "execution_count": null,
      "metadata": {
        "id": "KKz7VvCWgPEU"
      },
      "outputs": [],
      "source": [
        "y = np.array(y)\n",
        "y.shape"
      ]
    },
    {
      "cell_type": "code",
      "source": [
        "pd.Series(y).value_counts()"
      ],
      "metadata": {
        "id": "WQYNv44_XCfo"
      },
      "execution_count": null,
      "outputs": []
    },
    {
      "cell_type": "code",
      "execution_count": null,
      "metadata": {
        "id": "yYlOGmRWUSKe"
      },
      "outputs": [],
      "source": [
        "x = np.array(x)\n",
        "x.shape"
      ]
    },
    {
      "cell_type": "code",
      "execution_count": null,
      "metadata": {
        "id": "j3teBDJ8PVB-"
      },
      "outputs": [],
      "source": [
        "from sklearn.model_selection import train_test_split\n",
        "\n",
        "x_train, x_test, y_train, y_test = train_test_split(x,y,test_size =0.2,shuffle=True, random_state=1)\n"
      ]
    },
    {
      "cell_type": "code",
      "execution_count": null,
      "metadata": {
        "id": "aAMCBXaVU1s0"
      },
      "outputs": [],
      "source": [
        "cv2_imshow(np.reshape(x_train[90],(28,28)))"
      ]
    },
    {
      "cell_type": "code",
      "execution_count": null,
      "metadata": {
        "id": "SPiQl0JEigB_"
      },
      "outputs": [],
      "source": [
        "y_train[8]"
      ]
    },
    {
      "cell_type": "code",
      "execution_count": null,
      "metadata": {
        "id": "VRk0gA8ZzVpu",
        "colab": {
          "base_uri": "https://localhost:8080/"
        },
        "outputId": "a4ab8829-efff-4b25-8638-8e1e373cd898"
      },
      "outputs": [
        {
          "output_type": "stream",
          "name": "stdout",
          "text": [
            "Model: \"model\"\n",
            "__________________________________________________________________________________________________\n",
            " Layer (type)                   Output Shape         Param #     Connected to                     \n",
            "==================================================================================================\n",
            " input_1 (InputLayer)           [(None, 1, 28, 28)]  0           []                               \n",
            "                                                                                                  \n",
            " conv2d (Conv2D)                (None, 1, 6, 64)     44864       ['input_1[0][0]']                \n",
            "                                                                                                  \n",
            " conv2d_1 (Conv2D)              (None, 1, 6, 64)     44864       ['input_1[0][0]']                \n",
            "                                                                                                  \n",
            " merge1 (Concatenate)           (None, 2, 6, 64)     0           ['conv2d[0][0]',                 \n",
            "                                                                  'conv2d_1[0][0]']               \n",
            "                                                                                                  \n",
            " max_pooling2d (MaxPooling2D)   (None, 1, 3, 64)     0           ['merge1[0][0]']                 \n",
            "                                                                                                  \n",
            " conv2d_2 (Conv2D)              (None, 1, 1, 128)    131200      ['max_pooling2d[0][0]']          \n",
            "                                                                                                  \n",
            " conv2d_3 (Conv2D)              (None, 1, 1, 128)    131200      ['max_pooling2d[0][0]']          \n",
            "                                                                                                  \n",
            " merge2 (Concatenate)           (None, 2, 1, 128)    0           ['conv2d_2[0][0]',               \n",
            "                                                                  'conv2d_3[0][0]']               \n",
            "                                                                                                  \n",
            " max_pooling2d_1 (MaxPooling2D)  (None, 1, 1, 128)   0           ['merge2[0][0]']                 \n",
            "                                                                                                  \n",
            " conv2d_4 (Conv2D)              (None, 1, 1, 256)    295168      ['max_pooling2d_1[0][0]']        \n",
            "                                                                                                  \n",
            " conv2d_5 (Conv2D)              (None, 1, 1, 256)    295168      ['max_pooling2d_1[0][0]']        \n",
            "                                                                                                  \n",
            " conv2d_6 (Conv2D)              (None, 1, 1, 256)    295168      ['max_pooling2d_1[0][0]']        \n",
            "                                                                                                  \n",
            " conv2d_7 (Conv2D)              (None, 1, 1, 256)    295168      ['max_pooling2d_1[0][0]']        \n",
            "                                                                                                  \n",
            " conv2d_8 (Conv2D)              (None, 1, 1, 256)    295168      ['max_pooling2d_1[0][0]']        \n",
            "                                                                                                  \n",
            " conv2d_9 (Conv2D)              (None, 1, 1, 256)    295168      ['max_pooling2d_1[0][0]']        \n",
            "                                                                                                  \n",
            " merge3 (Concatenate)           (None, 6, 1, 256)    0           ['conv2d_4[0][0]',               \n",
            "                                                                  'conv2d_5[0][0]',               \n",
            "                                                                  'conv2d_6[0][0]',               \n",
            "                                                                  'conv2d_7[0][0]',               \n",
            "                                                                  'conv2d_8[0][0]',               \n",
            "                                                                  'conv2d_9[0][0]']               \n",
            "                                                                                                  \n",
            " max_pooling2d_2 (MaxPooling2D)  (None, 3, 1, 256)   0           ['merge3[0][0]']                 \n",
            "                                                                                                  \n",
            " dropout (Dropout)              (None, 3, 1, 256)    0           ['max_pooling2d_2[0][0]']        \n",
            "                                                                                                  \n",
            " flatten (Flatten)              (None, 768)          0           ['dropout[0][0]']                \n",
            "                                                                                                  \n",
            " dense (Dense)                  (None, 15)           11535       ['flatten[0][0]']                \n",
            "                                                                                                  \n",
            "==================================================================================================\n",
            "Total params: 2,134,671\n",
            "Trainable params: 2,134,671\n",
            "Non-trainable params: 0\n",
            "__________________________________________________________________________________________________\n"
          ]
        }
      ],
      "source": [
        "from keras.layers import merge, Input, concatenate\n",
        "from keras.models import Model\n",
        "from keras.layers.core import Dense, Dropout, Flatten\n",
        "from keras.layers.convolutional import MaxPooling2D, Convolution2D\n",
        "img_rows, img_cols = 28, 28\n",
        "\n",
        "nb_filters_1 = 64\n",
        "nb_filters_2 = 128\n",
        "nb_filters_3 = 256\n",
        "nb_conv = 3\n",
        "nb_conv_mid = 4\n",
        "nb_conv_init = 5\n",
        "\n",
        "init = Input(shape=(1, 28, 28),)\n",
        "\n",
        "fork11 = Convolution2D(nb_filters_1, nb_conv_init, nb_conv_init,  activation=\"relu\", padding='same')(init)\n",
        "fork12 = Convolution2D(nb_filters_1, nb_conv_init, nb_conv_init, activation=\"relu\", padding='same')(init)\n",
        "merge1 = concatenate([fork11, fork12], axis=1, name='merge1')\n",
        "# concat_feat = concatenate([concat_feat, x], mode='concat', axis=concat_axis, name='concat_'+str(stage)+'_'+str(branch))\n",
        "maxpool1 = MaxPooling2D(strides=(2,2), padding='same')(merge1)\n",
        "\n",
        "fork21 = Convolution2D(nb_filters_2, nb_conv_mid, nb_conv_mid, activation=\"relu\", padding='same')(maxpool1)\n",
        "fork22 = Convolution2D(nb_filters_2, nb_conv_mid, nb_conv_mid, activation=\"relu\", padding='same')(maxpool1)\n",
        "merge2 = concatenate([fork21, fork22, ], axis=1, name='merge2')\n",
        "maxpool2 = MaxPooling2D(strides=(2,2), padding='same')(merge2)\n",
        "\n",
        "fork31 = Convolution2D(nb_filters_3, nb_conv, nb_conv, activation=\"relu\", padding='same')(maxpool2)\n",
        "fork32 = Convolution2D(nb_filters_3, nb_conv, nb_conv, activation=\"relu\", padding='same')(maxpool2)\n",
        "fork33 = Convolution2D(nb_filters_3, nb_conv, nb_conv, activation=\"relu\", padding='same')(maxpool2)\n",
        "fork34 = Convolution2D(nb_filters_3, nb_conv, nb_conv, activation=\"relu\", padding='same')(maxpool2)\n",
        "fork35 = Convolution2D(nb_filters_3, nb_conv, nb_conv, activation=\"relu\", padding='same')(maxpool2)\n",
        "fork36 = Convolution2D(nb_filters_3, nb_conv, nb_conv, activation=\"relu\", padding='same')(maxpool2)\n",
        "merge3 = concatenate([fork31, fork32, fork33, fork34, fork35, fork36, ], axis=1, name='merge3')\n",
        "maxpool3 = MaxPooling2D(strides=(2,2), padding='same')(merge3)\n",
        "\n",
        "dropout = Dropout(0.5)(maxpool3)\n",
        "\n",
        "flatten = Flatten()(dropout)\n",
        "output = Dense(15, activation=\"softmax\")(flatten)\n",
        "\n",
        "model = Model(init, output)\n",
        "\n",
        "model.summary()"
      ]
    },
    {
      "cell_type": "code",
      "execution_count": null,
      "metadata": {
        "id": "tNiqddPbykCX"
      },
      "outputs": [],
      "source": [
        "from keras.callbacks import EarlyStopping\n",
        "early_stop=EarlyStopping(monitor='val_loss',mode='min',verbose=1,patience=5)\n",
        "#Early stopping to avoid overfitting of model"
      ]
    },
    {
      "cell_type": "code",
      "source": [
        "from tensorflow import keras\n",
        "ada = keras.optimizers.Adadelta(learning_rate=1.0, rho=0.95)\n",
        "model.compile(optimizer=ada,\n",
        "              loss='sparse_categorical_crossentropy',\n",
        "              metrics=['accuracy'])"
      ],
      "metadata": {
        "id": "tNGEvMcf0qli"
      },
      "execution_count": null,
      "outputs": []
    },
    {
      "cell_type": "code",
      "execution_count": null,
      "metadata": {
        "colab": {
          "base_uri": "https://localhost:8080/"
        },
        "id": "fkpkT2PKV2nT",
        "outputId": "ed194ab7-f36f-4015-aaa1-ae753ad60010"
      },
      "outputs": [
        {
          "output_type": "stream",
          "name": "stdout",
          "text": [
            "Epoch 1/20\n",
            "1237/1237 [==============================] - 8s 6ms/step - loss: 0.0772 - accuracy: 0.9852 - val_loss: 0.2579 - val_accuracy: 0.9719\n",
            "Epoch 2/20\n",
            "1237/1237 [==============================] - 7s 6ms/step - loss: 0.0577 - accuracy: 0.9874 - val_loss: 0.2571 - val_accuracy: 0.9704\n",
            "Epoch 3/20\n",
            "1237/1237 [==============================] - 7s 6ms/step - loss: 0.0534 - accuracy: 0.9887 - val_loss: 0.2696 - val_accuracy: 0.9718\n",
            "Epoch 4/20\n",
            "1237/1237 [==============================] - 8s 6ms/step - loss: 0.0514 - accuracy: 0.9886 - val_loss: 0.2969 - val_accuracy: 0.9699\n",
            "Epoch 5/20\n",
            "1237/1237 [==============================] - 8s 6ms/step - loss: 0.0523 - accuracy: 0.9888 - val_loss: 0.2822 - val_accuracy: 0.9715\n",
            "Epoch 6/20\n",
            "1237/1237 [==============================] - 8s 6ms/step - loss: 0.0479 - accuracy: 0.9904 - val_loss: 0.2767 - val_accuracy: 0.9722\n",
            "Epoch 7/20\n",
            "1237/1237 [==============================] - 8s 6ms/step - loss: 0.0470 - accuracy: 0.9904 - val_loss: 0.3143 - val_accuracy: 0.9721\n",
            "Epoch 7: early stopping\n"
          ]
        },
        {
          "output_type": "execute_result",
          "data": {
            "text/plain": [
              "<keras.callbacks.History at 0x7f8f56492ad0>"
            ]
          },
          "metadata": {},
          "execution_count": 160
        }
      ],
      "source": [
        "model.fit(x_train,y_train,validation_split=0.2,epochs = 20, callbacks = [early_stop])"
      ]
    },
    {
      "cell_type": "code",
      "execution_count": null,
      "metadata": {
        "id": "vSbpDPWQgXMt"
      },
      "outputs": [],
      "source": [
        "pred = model.predict(x_test)\n",
        "y_pred=np.argmax(pred,axis=1)"
      ]
    },
    {
      "cell_type": "code",
      "execution_count": null,
      "metadata": {
        "colab": {
          "base_uri": "https://localhost:8080/"
        },
        "id": "okxEB_MnhjO5",
        "outputId": "b4ac4bd2-40e8-4e08-d803-2a123174a2d3"
      },
      "outputs": [
        {
          "output_type": "stream",
          "name": "stdout",
          "text": [
            "              precision    recall  f1-score   support\n",
            "\n",
            "           0       0.99      0.98      0.98      1162\n",
            "           1       0.99      0.97      0.98      1376\n",
            "           2       0.96      0.98      0.97      1194\n",
            "           3       0.94      0.98      0.96      1166\n",
            "           4       0.98      0.96      0.97      1186\n",
            "           5       0.97      0.96      0.97      1135\n",
            "           6       0.98      0.98      0.98      1202\n",
            "           7       0.95      0.97      0.96      1184\n",
            "           8       0.96      0.97      0.96      1195\n",
            "           9       0.97      0.95      0.96      1169\n",
            "          13       0.98      0.95      0.96       397\n",
            "\n",
            "    accuracy                           0.97     12366\n",
            "   macro avg       0.97      0.97      0.97     12366\n",
            "weighted avg       0.97      0.97      0.97     12366\n",
            "\n"
          ]
        }
      ],
      "source": [
        "from sklearn.metrics import accuracy_score,classification_report,confusion_matrix\n",
        "import numpy as np\n",
        "\n",
        "#get classification report\n",
        "print(classification_report(y_pred,y_test))"
      ]
    },
    {
      "cell_type": "code",
      "execution_count": null,
      "metadata": {
        "id": "bA_DvvzxBZsR"
      },
      "outputs": [],
      "source": [
        "#Function to get all the digit like contours from an image\n",
        "def dig_contour(img):\n",
        "    img_gray = cv2.cvtColor(img,cv2.COLOR_BGR2GRAY )\n",
        "    ret, thresh = cv2.threshold(img_gray, 150,255, cv2.THRESH_BINARY)\n",
        "    conts , hierarchy = cv2.findContours(image=thresh, mode= cv2.RETR_TREE, method = cv2.CHAIN_APPROX_SIMPLE)\n",
        "    \n",
        "    if len(conts) < 1 :\n",
        "        return \"There are no more lines of numbers \"\n",
        "    digit_contours = [] \n",
        "    \n",
        "    for c in conts:\n",
        "        (x,y,w,h) = cv2.boundingRect(c)\n",
        "        \n",
        "        if (w >= 7 and w <= 120) and (h >= 30 and h <= 120):\n",
        "            digit_contours.append(c)\n",
        "    if len(digit_contours) < 1:\n",
        "        return \"There are no more lines of numbers \"\n",
        "    digit_contours = contours.sort_contours(digit_contours, method=\"left-to-right\")[0]\n",
        "    \n",
        "    return digit_contours\n",
        "    "
      ]
    },
    {
      "cell_type": "code",
      "source": [
        "#Function to get a complete line contours\n",
        "def line_contour(img):\n",
        "    img_gray = cv2.cvtColor(img,cv2.COLOR_BGR2GRAY )\n",
        "    ret, thresh = cv2.threshold(img_gray, 150,255, cv2.THRESH_BINARY)\n",
        "    conts , hierarchy = cv2.findContours(image=thresh, mode= cv2.RETR_TREE, method = cv2.CHAIN_APPROX_SIMPLE)\n",
        "    \n",
        "    if len(conts) < 1 :\n",
        "        return \"There are no more lines of numbers \"\n",
        "    digit_contours = [] \n",
        "    \n",
        "    for c in conts:\n",
        "        (x,y,w,h) = cv2.boundingRect(c)\n",
        "        \n",
        "        if (w >= 7 and w <= 120) and (h >= 30 and h <= 120):\n",
        "            digit_contours.append(c)\n",
        "    if len(digit_contours) < 1:\n",
        "        return \"There are no more lines of numbers \"\n",
        "    digit_contours = contours.sort_contours(digit_contours, method=\"top-to-bottom\")[0]\n",
        "    \n",
        "    return digit_contours\n",
        "    "
      ],
      "metadata": {
        "id": "dEqUD3xGWs75"
      },
      "execution_count": null,
      "outputs": []
    },
    {
      "cell_type": "code",
      "execution_count": null,
      "metadata": {
        "id": "Ua63gK_mBfZf"
      },
      "outputs": [],
      "source": [
        "#Function to get the individual lines \n",
        "def split_lines(img):\n",
        "    lines_imgs = []\n",
        "    \n",
        "    contour_digits = line_contour(img)\n",
        "    # print(\"done1\")\n",
        "    new_image, new_line = line_img(contour_digits,img)\n",
        "    lines_imgs.append(new_line)\n",
        "    contour_digits = line_contour(new_image)\n",
        "    # print(\"done2\")\n",
        "    while type(contour_digits) == tuple:\n",
        "        \n",
        "        new_image, new_line = line_img(contour_digits,new_image) \n",
        "        if type(dig_contour(new_line)) == tuple:\n",
        "          lines_imgs.append(new_line)\n",
        "        # t=new_image\n",
        "        if len(new_image) == 0 :\n",
        "          break \n",
        "        contour_digits = line_contour(new_image)\n",
        "        # print(\"done3\")\n",
        "        \n",
        "    return lines_imgs\n",
        "        \n",
        "    \n",
        "    "
      ]
    },
    {
      "cell_type": "code",
      "execution_count": null,
      "metadata": {
        "id": "iu18ATEgBizl"
      },
      "outputs": [],
      "source": [
        "#Function to get the next line and the present line\n",
        "def line_img(contour_digits,img):\n",
        "    \n",
        "    (x,y,w,h) = cv2.boundingRect(contour_digits[0])\n",
        "    # n_l = img[y -110 :y + h+ 40, x:] \n",
        "    \n",
        "    \n",
        "    n_i = img[y + h +140 :, :]\n",
        "    n_l = img[ :y + h+ 170, :]\n",
        "    \n",
        "    return n_i, n_l "
      ]
    },
    {
      "cell_type": "code",
      "source": [
        "#Function to find out of if the bounding boxes overlap\n",
        "def overlap(l1,l2,r1,r2):\n",
        "    if (l1[\"x\"] == r1[\"x\"] or l1[\"y\"] == r1[\"y\"] or l2[\"x\"] == r2[\"x\"] or l2[\"y\"] == r2[\"y\"]):\n",
        "        return False\n",
        "    if (l1[\"x\"] > r2[\"x\"] or l2[\"x\"] > r1[\"x\"]):\n",
        "        return False \n",
        "    if (l2[\"y\"] > r1[\"y\"] or l1[\"y\"] > r2[\"y\"]):\n",
        "        return False \n",
        "    return True"
      ],
      "metadata": {
        "id": "zeB2v0wBVEdG"
      },
      "execution_count": null,
      "outputs": []
    },
    {
      "cell_type": "code",
      "source": [
        "#Function that removes the smaller contour for those that their bounding box overlap\n",
        "def remove_overlap(digs):\n",
        "  new_digits =[]\n",
        "  dig = list(digs)\n",
        "  for ty in range(0,len(dig)-1):\n",
        "    (x,y,w,h) = cv2.boundingRect(dig[ty]) \n",
        "    # roi_l = lines[0][y:y + h, x:x + w]\n",
        "    l1 = {\"x\":x,\"y\":y,\"w\":w,\"h\":h}\n",
        "    r1 = {\"x\":x + w,\"y\":y + h}\n",
        "    \n",
        "    (x,y,w,h) = cv2.boundingRect(dig[ty+1]) \n",
        "    # roi_l_1 = lines[0][y:y + h, x:x + w]\n",
        "    l2 = {\"x\":x,\"y\":y,\"w\":w,\"h\":h}\n",
        "    r2 = {\"x\":x + w,\"y\":y + h}\n",
        "  \n",
        "    if overlap(l1,l2,r1,r2):\n",
        "      if (l1[\"w\"] * l1[\"h\"]) > l2[\"w\"] * l2[\"h\"] :\n",
        "        # del dig[ty+1]\n",
        "        new_digits.append(dig[ty+1])\n",
        "      else:\n",
        "        # del dig[ty]\n",
        "        new_digits.append(dig[ty])\n",
        "      # new_digits.append(digs[ty+1])\n",
        "  for i in new_digits:\n",
        "    dig.remove(i)\n",
        "\n",
        "  return dig\n"
      ],
      "metadata": {
        "id": "BfyzDz1soXD4"
      },
      "execution_count": null,
      "outputs": []
    },
    {
      "cell_type": "code",
      "source": [
        "#Function that takes an image and returns the amount of lines and and the characters in each line in order\n",
        "def eval_image(im):\n",
        "  line_eval =[]\n",
        "  lines = split_lines(im)\n",
        "  for i in range(0,len(lines)):\n",
        "    digits = dig_contour(lines[i])\n",
        "    digits = remove_overlap(digits)\n",
        "    num=\"\"\n",
        "    for l in digits:\n",
        "      (x,y,w,h) = cv2.boundingRect(l)\n",
        "      roi_l = lines[i][y:y + h, x:x + w] \n",
        "\n",
        "      img_num = cv2.resize(roi_l,(28,28))\n",
        "      img_gray = cv2.cvtColor(img_num,cv2.COLOR_BGR2GRAY )\n",
        "      # ret, thresh = cv2.threshold(img_gray, 150,255, cv2.THRESH_BINARY)\n",
        "      im_resize = cv2.bitwise_not(img_gray)\n",
        "      img_num = np.reshape(im_resize,(1,1,28,28)) \n",
        "\n",
        "      pred = loaded_model.predict(img_num)\n",
        "      y_pred=np.argmax(pred,axis=1)\n",
        "      # y_pred = [sign_keys[i]\n",
        "      num = num + sign_keys[y_pred[0]]\n",
        "\n",
        "    # print(num)\n",
        "    # print()\n",
        "    line_eval.append(num)\n",
        "  # print(f\"There are {len(line_eval)} lines \" )\n",
        "  t = f\"There are {len(line_eval)} lines \" \n",
        "  for e in range(0,len(line_eval)): \n",
        "    # print(f\"The {e} line is :{line_eval[e]}\")\n",
        "    \n",
        "    t = t + f\" The line {e} has {len(line_eval[e])} characters and is approximately :{line_eval[e]}  \"\n",
        "  \n",
        "  # s = print(t)\n",
        "  \n",
        "  \n",
        "  return t\n",
        "    # if correct_eval == eval(line_eval[e]):\n",
        "    #   print(f\"Line {e} is correct\")\n",
        "    # else:\n",
        "    #   print(f\"Line {e} is not correct\")\n",
        "\n"
      ],
      "metadata": {
        "id": "CJRSDZ7oW8kM"
      },
      "execution_count": null,
      "outputs": []
    },
    {
      "cell_type": "code",
      "execution_count": null,
      "metadata": {
        "id": "IiF-lde3byJ0"
      },
      "outputs": [],
      "source": [
        "sign_keys = {0:\"0\",1:\"1\",2:\"2\",3:\"3\",4:\"4\",5:\"5\",6:\"6\",7:\"7\",8:\"8\",9:\"9\",11:\"*\",12:\"-\",13:\"+\"}"
      ]
    },
    {
      "cell_type": "code",
      "source": [
        "from keras.models import model_from_json\n",
        "json_file = open('n_model (1).json', 'r')\n",
        "loaded_model_json = json_file.read()\n",
        "json_file.close()\n",
        "loaded_model = model_from_json(loaded_model_json)\n",
        "# load weights into new model\n",
        "loaded_model.load_weights(\"n_model (1).h5\")"
      ],
      "metadata": {
        "id": "GJQ553oud1Hu"
      },
      "execution_count": null,
      "outputs": []
    },
    {
      "cell_type": "code",
      "source": [
        "#Reading image into a variable\n",
        "# image = cv2.imread(\"image_6.jpg\")\n",
        "image = cv2.imread(\"image_13_2.jpg\")\n",
        "# image = cv2.imread(\"/content/image_8_1.jpg\")\n",
        "# image = cv2.imread(\"/content/image_8_3.jpg\")\n",
        "# image = cv2.imread(\"/content/image_9_1.jpg\")\n",
        "# image = cv2.imread(\"/content/image_9_3.jpg\")\n",
        "# image = cv2.imread(\"n_i.jpg\")"
      ],
      "metadata": {
        "id": "PjXdlBwzXIKd"
      },
      "execution_count": null,
      "outputs": []
    },
    {
      "cell_type": "code",
      "source": [
        "#loaded_model\n",
        "eval_image(image)"
      ],
      "metadata": {
        "colab": {
          "base_uri": "https://localhost:8080/",
          "height": 53
        },
        "id": "0Lgcmt17eFm5",
        "outputId": "9c2c6666-e4fe-4d39-f4d7-6837e309c8f0"
      },
      "execution_count": null,
      "outputs": [
        {
          "output_type": "stream",
          "name": "stderr",
          "text": [
            "/usr/local/lib/python3.7/dist-packages/ipykernel_launcher.py:24: DeprecationWarning: elementwise comparison failed; this will raise an error in the future.\n"
          ]
        },
        {
          "output_type": "execute_result",
          "data": {
            "text/plain": [
              "'There are 3 lines  The 0 line is approximately :2*+52+2*2  The 1 line is approximately :3+2*2+-  The 2 line is approximately :3*234 '"
            ],
            "application/vnd.google.colaboratory.intrinsic+json": {
              "type": "string"
            }
          },
          "metadata": {},
          "execution_count": 185
        }
      ]
    },
    {
      "cell_type": "markdown",
      "source": [
        "## Testing Phase "
      ],
      "metadata": {
        "id": "KHIKeQrG2NSw"
      }
    },
    {
      "cell_type": "code",
      "execution_count": null,
      "metadata": {
        "id": "XX-RfZvfBlj4"
      },
      "outputs": [],
      "source": [
        "lines = split_lines(image) "
      ]
    },
    {
      "cell_type": "code",
      "execution_count": null,
      "metadata": {
        "colab": {
          "base_uri": "https://localhost:8080/"
        },
        "id": "7341Ax5tBqOO",
        "outputId": "a8006b30-7fd8-482d-97a3-54261adb11d7"
      },
      "outputs": [
        {
          "output_type": "execute_result",
          "data": {
            "text/plain": [
              "3"
            ]
          },
          "metadata": {},
          "execution_count": 116
        }
      ],
      "source": [
        "len(lines)"
      ]
    },
    {
      "cell_type": "code",
      "execution_count": null,
      "metadata": {
        "colab": {
          "base_uri": "https://localhost:8080/",
          "height": 155
        },
        "id": "JXsPH_5gBsRu",
        "outputId": "df1c4342-1e20-45b8-aec1-399e7fb8c3ec"
      },
      "outputs": [
        {
          "output_type": "display_data",
          "data": {
            "text/plain": [
              "<PIL.Image.Image image mode=RGB size=3797x360 at 0x7F8F56627C90>"
            ],
            "image/png": "[encoded data removed]"
          },
          "metadata": {}
        },
        {
          "output_type": "execute_result",
          "data": {
            "text/plain": [
              "-1"
            ]
          },
          "metadata": {},
          "execution_count": 117
        }
      ],
      "source": [
        "from google.colab.patches import cv2_imshow\n",
        "cv2_imshow(lines[0])\n",
        "cv2.waitKey(0)"
      ]
    },
    {
      "cell_type": "code",
      "execution_count": null,
      "metadata": {
        "id": "9ix_GSoXBvdy"
      },
      "outputs": [],
      "source": [
        "digits = dig_contour(lines[0])"
      ]
    },
    {
      "cell_type": "code",
      "execution_count": null,
      "metadata": {
        "colab": {
          "base_uri": "https://localhost:8080/"
        },
        "id": "3QjY-6l5CPMp",
        "outputId": "b91b8d08-e50c-4f22-f7fd-c9c3cba797e4"
      },
      "outputs": [
        {
          "output_type": "execute_result",
          "data": {
            "text/plain": [
              "9"
            ]
          },
          "metadata": {},
          "execution_count": 119
        }
      ],
      "source": [
        "len(digits)"
      ]
    },
    {
      "cell_type": "code",
      "source": [
        "digits = remove_overlap(digits)"
      ],
      "metadata": {
        "colab": {
          "base_uri": "https://localhost:8080/"
        },
        "id": "E9zW3_ono09w",
        "outputId": "aa41ffd8-5337-467c-e6e5-6b39baf22bf2"
      },
      "execution_count": null,
      "outputs": [
        {
          "output_type": "stream",
          "name": "stderr",
          "text": [
            "/usr/local/lib/python3.7/dist-packages/ipykernel_launcher.py:24: DeprecationWarning: elementwise comparison failed; this will raise an error in the future.\n"
          ]
        }
      ]
    },
    {
      "cell_type": "code",
      "source": [
        "len(digits)"
      ],
      "metadata": {
        "colab": {
          "base_uri": "https://localhost:8080/"
        },
        "id": "g-PFLxmapBmY",
        "outputId": "7b03fd67-2f64-441a-eb46-dcf2792ea865"
      },
      "execution_count": null,
      "outputs": [
        {
          "output_type": "execute_result",
          "data": {
            "text/plain": [
              "7"
            ]
          },
          "metadata": {},
          "execution_count": 121
        }
      ]
    },
    {
      "cell_type": "code",
      "execution_count": null,
      "metadata": {
        "colab": {
          "base_uri": "https://localhost:8080/",
          "height": 112
        },
        "id": "lISHKyShCQ6e",
        "outputId": "e1d37297-51a4-4be4-a026-db337d39228c"
      },
      "outputs": [
        {
          "output_type": "display_data",
          "data": {
            "text/plain": [
              "<PIL.Image.Image image mode=RGB size=77x95 at 0x7F8F564BF0D0>"
            ],
            "image/png": "[encoded data removed]"
          },
          "metadata": {}
        }
      ],
      "source": [
        "#digits from the lines\n",
        "\n",
        "(x,y,w,h) = cv2.boundingRect(digits[1])\n",
        "roi_l = lines[0][y:y + h, x:x + w]\n",
        "cv2_imshow(roi_l)\n",
        "# cv2.waitKey(0)\n",
        "# cv2.imwrite(\"new_l.jpg\",roi_l)"
      ]
    },
    {
      "cell_type": "code",
      "execution_count": null,
      "metadata": {
        "id": "Y_AJVqWfawli"
      },
      "outputs": [],
      "source": [
        "# roi_l = roi_l/255\n",
        "img_num = cv2.resize(roi_l,(28,28))\n",
        "img_gray = cv2.cvtColor(img_num,cv2.COLOR_BGR2GRAY )\n",
        "# ret, thresh = cv2.threshold(img_gray, 150,255, cv2.THRESH_BINARY)\n",
        "im_resize = cv2.bitwise_not(img_gray)\n",
        "img_num = np.reshape(im_resize,(1,1,28,28))\n",
        "# img_num = np.reshape(x_test[0],(1,1,28,28))"
      ]
    },
    {
      "cell_type": "code",
      "execution_count": null,
      "metadata": {
        "colab": {
          "base_uri": "https://localhost:8080/"
        },
        "id": "SiOsYIe2bTD2",
        "outputId": "650f60e7-5fa5-4a04-a0ae-a504e0efc4e8"
      },
      "outputs": [
        {
          "output_type": "execute_result",
          "data": {
            "text/plain": [
              "array([11])"
            ]
          },
          "metadata": {},
          "execution_count": 99
        }
      ],
      "source": [
        "pred = model.predict(img_num)\n",
        "y_pred=np.argmax(pred,axis=1)\n",
        "y_pred "
      ]
    },
    {
      "cell_type": "code",
      "execution_count": null,
      "metadata": {
        "id": "Ee3O7Mox_OEK"
      },
      "outputs": [],
      "source": [
        ""
      ]
    }
  ],
  "metadata": {
    "accelerator": "GPU",
    "colab": {
      "collapsed_sections": [],
      "name": "Ocr_solve_math_1.ipynb",
      "provenance": [],
      "authorship_tag": "ABX9TyMWK6EPSMmm1vuJEyITR51i",
      "include_colab_link": true
    },
    "kernelspec": {
      "display_name": "Python 3",
      "name": "python3"
    },
    "language_info": {
      "name": "python"
    }
  },
  "nbformat": 4,
  "nbformat_minor": 0
}